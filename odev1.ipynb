{
  "nbformat": 4,
  "nbformat_minor": 0,
  "metadata": {
    "colab": {
      "name": "odev1.ipynb",
      "provenance": [],
      "collapsed_sections": [],
      "authorship_tag": "ABX9TyPJiuMXAUgI7Slp7UzDouUA",
      "include_colab_link": true
    },
    "kernelspec": {
      "name": "python3",
      "display_name": "Python 3"
    },
    "language_info": {
      "name": "python"
    }
  },
  "cells": [
    {
      "cell_type": "markdown",
      "metadata": {
        "id": "view-in-github",
        "colab_type": "text"
      },
      "source": [
        "<a href=\"https://colab.research.google.com/github/mustafaerdikararmaz/python_dersleri/blob/main/odev1.ipynb\" target=\"_parent\"><img src=\"https://colab.research.google.com/assets/colab-badge.svg\" alt=\"Open In Colab\"/></a>"
      ]
    },
    {
      "cell_type": "markdown",
      "source": [
        "1) Bu ilk soruda sizden istenen verilen kodda tanımlanmış variable'ı kullanarak(başka variable tanımlamak yasak) şu kelimeleri aynı sırada ve aynı satırda bastırmanız:\n",
        "mavi beyaz kırmızı"
      ],
      "metadata": {
        "id": "0RG51aX6TpcU"
      }
    },
    {
      "cell_type": "code",
      "execution_count": null,
      "metadata": {
        "id": "NxgU2uhMTnBb"
      },
      "outputs": [],
      "source": [
        "renkler = \"kırmızı sarı yeşil beyaz mavi\"\n",
        "\n",
        "#kodunuzu aşağıya yazabilirsiniz\n"
      ]
    },
    {
      "cell_type": "markdown",
      "source": [
        "2) Bu soruda sizden istenen şey ise variable'ları kullanarak akrostiş şiirden çıkan kelimeyi print fonksiyonu ile bastırmanız.(aralarda boşluk olmamasına dikkat edin)"
      ],
      "metadata": {
        "id": "GaVrIhfGVHDd"
      }
    },
    {
      "cell_type": "code",
      "source": [
        "satır1 = \"Asaletine dünya hayran\"\n",
        "satır2 = \"Türklüğü yücelten komutan\"\n",
        "satır3 = \"Adaletine boyun eğer düşman\"\n",
        "satır4 = \"Tarihi yeniden yazan kahraman\"\n",
        "satır5 = \"Ülkesine hayatı adayan\"\n",
        "satır6 = \"Reform yenilikleri yapan\"\n",
        "satır7 = \"Kahraman lider ATAM\"\n",
        "\n",
        "#kodunuzu aşağıya yazabilirsiniz"
      ],
      "metadata": {
        "id": "xHxFtxlKVI7h"
      },
      "execution_count": null,
      "outputs": []
    },
    {
      "cell_type": "markdown",
      "source": [
        "3) Bu soruda ise sizden istenen şey dairenin alanını hesaplayıp şu şekilde bastırmanız: Dairenin alanı ... santimetrekaredir.(yeni string variable tanımlamak yasak)"
      ],
      "metadata": {
        "id": "tyk8ppuuW0hs"
      }
    },
    {
      "cell_type": "code",
      "source": [
        "sentence1 = \"Dairenin alanı \"\n",
        "sentence2 = \"santimetrekaredir.\"\n",
        "radius = 4\n",
        "pi = 3.14\n",
        "\n",
        "#kodunuzu aşağıya yazabilirsiniz\n"
      ],
      "metadata": {
        "id": "fWUH-Gt6XHBi"
      },
      "execution_count": null,
      "outputs": []
    }
  ]
}