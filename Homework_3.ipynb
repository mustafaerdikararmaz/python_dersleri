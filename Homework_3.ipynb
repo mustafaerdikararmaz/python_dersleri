{
  "nbformat": 4,
  "nbformat_minor": 0,
  "metadata": {
    "colab": {
      "name": "Homework_3.ipynb",
      "provenance": [],
      "collapsed_sections": [],
      "authorship_tag": "ABX9TyOEo3PML2UIopGasnVHF09E",
      "include_colab_link": true
    },
    "kernelspec": {
      "name": "python3",
      "display_name": "Python 3"
    },
    "language_info": {
      "name": "python"
    }
  },
  "cells": [
    {
      "cell_type": "markdown",
      "metadata": {
        "id": "view-in-github",
        "colab_type": "text"
      },
      "source": [
        "<a href=\"https://colab.research.google.com/github/mustafaerdikararmaz/python_dersleri/blob/main/Homework_3.ipynb\" target=\"_parent\"><img src=\"https://colab.research.google.com/assets/colab-badge.svg\" alt=\"Open In Colab\"/></a>"
      ]
    },
    {
      "cell_type": "markdown",
      "source": [
        "1) Yeni bir eve taşınacağınızı düşünün. Koli kutu almak için bakkala gittiniz ve bakkal amca size küp şeklinde bir koli verdi. Bu koliyi daire şeklinde olan tabaklarınızı üst üste koymak şartı ile kullanmaya karar verdiniz. Kullanıcı size kolinin bir kenarının uzunluğunu, tabağın yarıçapını ve kalınlığını verecek. Buna göre bu koliye kaç tane tabak sığacağını bastıran bir program yazınız.\n",
        "\n",
        "***inputlar***: küpün bir kenarı(**A**), tabağın yarıçapı (**r**), tabağın kalınlığı(**h**)\n",
        "\n",
        "***output***: Kolinin içine kaç tane tabak sığacak\n",
        "\n",
        "***Kısıtlamalar***:**4r>A** (kısıtlama kafanızı karıştırmasın bir koliye sadece bir sıra tabak koyabilmek için bu gerekli)"
      ],
      "metadata": {
        "id": "0849O__LjNwp"
      }
    },
    {
      "cell_type": "code",
      "source": [
        "#kodunuzu buraya yazınız"
      ],
      "metadata": {
        "id": "cQJ8KnnVnxJD"
      },
      "execution_count": null,
      "outputs": []
    },
    {
      "cell_type": "markdown",
      "source": [
        "2)Bir ülkede trafik cezası uygulaması hız limitini ne kadar aştığınıza göre belirleniyor. Yani hız limiti 50 olan yerde 60 ile giderseniz hız limitini %20 aştığınız için 1000 lira ceza alıyorsunuz (verilen yüzdenin 50 katı). Ama sistemde araç sollama payı da olduğu için hız limiti aşımı %10 ve altında ise ceza yazılmıyor. Sizden istenen şey Kullanıcının hızını(**V**) input olarak almanız ve hız sınırı **S**  olan bir yolda ne kadar ceza yiyeceğini hesaplamanız. (output olarak \"şu kadar ceza yediniz\" gibisinden bir şey bastırabilirsiniz)\n",
        "\n",
        "***Inputlar***: aracın hızı(**V**) ve yoldaki hız sınırı (**S**)\n",
        "\n",
        "***Outputlar*** : verilen para cezası (**C**)\n",
        "\n",
        "\n"
      ],
      "metadata": {
        "id": "fMVigtdcnzMU"
      }
    },
    {
      "cell_type": "code",
      "source": [
        "#kodunuzu buraya yazınız"
      ],
      "metadata": {
        "id": "6hHMq9uEsO2-"
      },
      "execution_count": null,
      "outputs": []
    },
    {
      "cell_type": "markdown",
      "source": [
        "3) Kullanıcıdan aldığınız bir sayının bir diğer aldığınız sayıya tam bölünüp bölünmediğini gösteren bir program yazınız.\n",
        "\n",
        "**inputlar** : **a** ve **b** sayısı\n",
        "\n",
        "**outputlar** \"tam bölünüyor\", \"tam bölünmüyor\" ya da \"ilk sayı ikinci sayıdan küçük\" şeklinde outputlar\n",
        "\n",
        "**restriction** : a>b (bu restriction 3. output için geçerli, yani bu durumu başta kontrol etmeniz lazım.)"
      ],
      "metadata": {
        "id": "R8m_5M-FsPir"
      }
    },
    {
      "cell_type": "code",
      "source": [
        "#kodunuzu buraya yazınız"
      ],
      "metadata": {
        "id": "BkAFmwG_6P5W"
      },
      "execution_count": null,
      "outputs": []
    },
    {
      "cell_type": "markdown",
      "source": [
        ""
      ],
      "metadata": {
        "id": "q3j56vPg6QN9"
      }
    }
  ]
}