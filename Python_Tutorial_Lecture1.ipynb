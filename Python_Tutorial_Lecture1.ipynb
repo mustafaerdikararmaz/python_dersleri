{
  "nbformat": 4,
  "nbformat_minor": 0,
  "metadata": {
    "colab": {
      "name": "Python_Tutorial_Lecture1.ipynb",
      "provenance": [],
      "collapsed_sections": [],
      "authorship_tag": "ABX9TyN6pRxFuy/0GHWHP5oZs5Zi",
      "include_colab_link": true
    },
    "kernelspec": {
      "name": "python3",
      "display_name": "Python 3"
    },
    "language_info": {
      "name": "python"
    }
  },
  "cells": [
    {
      "cell_type": "markdown",
      "metadata": {
        "id": "view-in-github",
        "colab_type": "text"
      },
      "source": [
        "<a href=\"https://colab.research.google.com/github/mustafaerdikararmaz/python_dersleri/blob/main/Python_Tutorial_Lecture1.ipynb\" target=\"_parent\"><img src=\"https://colab.research.google.com/assets/colab-badge.svg\" alt=\"Open In Colab\"/></a>"
      ]
    },
    {
      "cell_type": "markdown",
      "source": [
        "Merahbalar,\n",
        "Python öğrenmeye hazır mısınız?"
      ],
      "metadata": {
        "id": "elW06h5piUf2"
      }
    },
    {
      "cell_type": "code",
      "source": [
        "ali = 3 \n",
        "murat = 8\n",
        "print(murat)\n",
        "print(4.2)"
      ],
      "metadata": {
        "id": "fIgJEonmiYdB",
        "colab": {
          "base_uri": "https://localhost:8080/"
        },
        "outputId": "a8fbb725-7f04-444d-a007-fc83e70dde4c"
      },
      "execution_count": null,
      "outputs": [
        {
          "output_type": "stream",
          "name": "stdout",
          "text": [
            "8\n",
            "4.2\n"
          ]
        }
      ]
    },
    {
      "cell_type": "code",
      "source": [
        "print(\"3\"+\"4\")"
      ],
      "metadata": {
        "colab": {
          "base_uri": "https://localhost:8080/"
        },
        "id": "jIuwbpdQbSB-",
        "outputId": "08495933-230b-42a1-eb27-783c16af8dc6"
      },
      "execution_count": null,
      "outputs": [
        {
          "output_type": "stream",
          "name": "stdout",
          "text": [
            "34\n"
          ]
        }
      ]
    },
    {
      "cell_type": "code",
      "source": [
        "mass = 20\n",
        "volume = 8\n",
        "density = mass/volume\n",
        "print(density)"
      ],
      "metadata": {
        "colab": {
          "base_uri": "https://localhost:8080/"
        },
        "id": "eSt31gjJbqNq",
        "outputId": "e9df1de6-38ed-454e-82b1-95cb4033e1cd"
      },
      "execution_count": null,
      "outputs": [
        {
          "output_type": "stream",
          "name": "stdout",
          "text": [
            "2.5\n"
          ]
        }
      ]
    },
    {
      "cell_type": "code",
      "source": [
        "mass = 3\n",
        "Mass = 2\n",
        "asdff = 1\n",
        "mass_function = 4.2\n",
        "mass_function2 = \"buraya bakarlar\"\n",
        "print(mass + mass_function)"
      ],
      "metadata": {
        "colab": {
          "base_uri": "https://localhost:8080/"
        },
        "id": "-LgTKvzVdcqs",
        "outputId": "56e3c789-3df1-4e2b-9a38-fa569972daba"
      },
      "execution_count": null,
      "outputs": [
        {
          "output_type": "stream",
          "name": "stdout",
          "text": [
            "7.2\n"
          ]
        }
      ]
    },
    {
      "cell_type": "code",
      "source": [
        "a = 3\n",
        "b = 8\n",
        "print(\"A'nnın önceki değeri = \", a)\n",
        "a,b = b,a\n",
        "print(\"A'nın sonraki değeri = \" , a)"
      ],
      "metadata": {
        "colab": {
          "base_uri": "https://localhost:8080/"
        },
        "id": "86mL99Aceo16",
        "outputId": "ea97196a-2c97-41cd-a3ef-7bb08935600f"
      },
      "execution_count": null,
      "outputs": [
        {
          "output_type": "stream",
          "name": "stdout",
          "text": [
            "A'nnın önceki değeri =  3\n",
            "A'nın sonraki değeri =  8\n"
          ]
        }
      ]
    },
    {
      "cell_type": "code",
      "source": [
        "hi = \"merhaba \"\n",
        "isim = \"erdi\"\n",
        "print(hi,isim)\n",
        "selamla = hi + isim\n",
        "print(selamla)\n"
      ],
      "metadata": {
        "colab": {
          "base_uri": "https://localhost:8080/"
        },
        "id": "DMmxNbB2fJUo",
        "outputId": "e1143670-3a0d-4585-c7c7-8a295dddad9c"
      },
      "execution_count": null,
      "outputs": [
        {
          "output_type": "stream",
          "name": "stdout",
          "text": [
            "merhaba  erdi\n",
            "merhaba erdi\n"
          ]
        }
      ]
    },
    {
      "cell_type": "code",
      "source": [
        "z = 0\n",
        "z = z + 1\n",
        "print(z)\n"
      ],
      "metadata": {
        "colab": {
          "base_uri": "https://localhost:8080/"
        },
        "id": "6klZ3xZIgTI7",
        "outputId": "2885cff6-9e7a-4088-c900-30119080fb4e"
      },
      "execution_count": null,
      "outputs": [
        {
          "output_type": "stream",
          "name": "stdout",
          "text": [
            "1\n"
          ]
        }
      ]
    },
    {
      "cell_type": "code",
      "source": [
        "z = 0\n",
        "z += 2\n",
        "print(z)"
      ],
      "metadata": {
        "colab": {
          "base_uri": "https://localhost:8080/"
        },
        "id": "pLyL6ql_hKMF",
        "outputId": "0b552e1d-7308-40d3-dc08-013bbb3dd2c1"
      },
      "execution_count": null,
      "outputs": [
        {
          "output_type": "stream",
          "name": "stdout",
          "text": [
            "2\n"
          ]
        }
      ]
    },
    {
      "cell_type": "code",
      "source": [
        "print('erdi\\'nin')"
      ],
      "metadata": {
        "colab": {
          "base_uri": "https://localhost:8080/"
        },
        "id": "rHJDp_-bhgO_",
        "outputId": "abcc5686-7776-46c4-8614-8d78e8753aad"
      },
      "execution_count": null,
      "outputs": [
        {
          "output_type": "stream",
          "name": "stdout",
          "text": [
            "erdi'nin\n"
          ]
        }
      ]
    },
    {
      "cell_type": "code",
      "source": [
        "alfabe = \"abcçdefg\"\n",
        "print(alfabe[2])"
      ],
      "metadata": {
        "colab": {
          "base_uri": "https://localhost:8080/"
        },
        "id": "MS3K1zygitD_",
        "outputId": "a3f2e044-3540-4a26-befa-c2217a8e5483"
      },
      "execution_count": null,
      "outputs": [
        {
          "output_type": "stream",
          "name": "stdout",
          "text": [
            "c\n"
          ]
        }
      ]
    },
    {
      "cell_type": "code",
      "source": [
        ""
      ],
      "metadata": {
        "id": "ZnOlTXxdkM7_"
      },
      "execution_count": null,
      "outputs": []
    },
    {
      "cell_type": "code",
      "source": [
        "biraz = alfabe[3:5]\n",
        "print(biraz)"
      ],
      "metadata": {
        "colab": {
          "base_uri": "https://localhost:8080/"
        },
        "id": "0PT4If6njSbL",
        "outputId": "ff37a533-9d30-4baf-a7e9-4d94d3bbca74"
      },
      "execution_count": null,
      "outputs": [
        {
          "output_type": "stream",
          "name": "stdout",
          "text": [
            "çd\n"
          ]
        }
      ]
    },
    {
      "cell_type": "code",
      "source": [
        "print(alfabe[-2])"
      ],
      "metadata": {
        "colab": {
          "base_uri": "https://localhost:8080/"
        },
        "id": "fJ1Yw4SUj8XX",
        "outputId": "e5ed38b8-b379-4a94-f313-4799ee6fb5ea"
      },
      "execution_count": null,
      "outputs": [
        {
          "output_type": "stream",
          "name": "stdout",
          "text": [
            "f\n"
          ]
        }
      ]
    },
    {
      "cell_type": "code",
      "source": [
        "print(alfabe[::2])"
      ],
      "metadata": {
        "colab": {
          "base_uri": "https://localhost:8080/"
        },
        "id": "TQiGN_dckXGz",
        "outputId": "d1ceb3d3-53bf-48ca-a4e9-e41ec082088d"
      },
      "execution_count": null,
      "outputs": [
        {
          "output_type": "stream",
          "name": "stdout",
          "text": [
            "acdf\n"
          ]
        }
      ]
    },
    {
      "cell_type": "code",
      "source": [
        "print(alfabe[::-1])"
      ],
      "metadata": {
        "colab": {
          "base_uri": "https://localhost:8080/"
        },
        "id": "e5Nt6fGuk_zi",
        "outputId": "5586b363-0c17-4a18-b908-538c655e8ece"
      },
      "execution_count": null,
      "outputs": [
        {
          "output_type": "stream",
          "name": "stdout",
          "text": [
            "gfedçcba\n"
          ]
        }
      ]
    },
    {
      "cell_type": "code",
      "source": [
        "ters_alfabe = alfabe[::-1]"
      ],
      "metadata": {
        "id": "vFqa7m7JlLZe"
      },
      "execution_count": null,
      "outputs": []
    },
    {
      "cell_type": "code",
      "source": [
        "len(alfabe)"
      ],
      "metadata": {
        "colab": {
          "base_uri": "https://localhost:8080/"
        },
        "id": "pEDvLtPGlPrK",
        "outputId": "66f77aad-3cf1-46a8-d6eb-ae5356b41e37"
      },
      "execution_count": null,
      "outputs": [
        {
          "output_type": "execute_result",
          "data": {
            "text/plain": [
              "8"
            ]
          },
          "metadata": {},
          "execution_count": 48
        }
      ]
    },
    {
      "cell_type": "code",
      "source": [
        "isim2 = \"rumeysa \"\n",
        "print(3*isim2)"
      ],
      "metadata": {
        "colab": {
          "base_uri": "https://localhost:8080/"
        },
        "id": "MMlsj6oFleif",
        "outputId": "5dd32b47-6eb5-430c-bb9c-da9f36f0a651"
      },
      "execution_count": null,
      "outputs": [
        {
          "output_type": "stream",
          "name": "stdout",
          "text": [
            "rumeysa rumeysa rumeysa \n"
          ]
        }
      ]
    },
    {
      "cell_type": "code",
      "source": [
        ""
      ],
      "metadata": {
        "id": "4imAsdtdordk"
      },
      "execution_count": null,
      "outputs": []
    }
  ]
}