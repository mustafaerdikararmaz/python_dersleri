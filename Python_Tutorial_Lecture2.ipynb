{
  "nbformat": 4,
  "nbformat_minor": 0,
  "metadata": {
    "colab": {
      "name": "Python_Tutorial_Lecture2.ipynb",
      "provenance": [],
      "collapsed_sections": [],
      "authorship_tag": "ABX9TyPN/jvusxOli4aLfwYY5Ab8",
      "include_colab_link": true
    },
    "kernelspec": {
      "name": "python3",
      "display_name": "Python 3"
    },
    "language_info": {
      "name": "python"
    }
  },
  "cells": [
    {
      "cell_type": "markdown",
      "metadata": {
        "id": "view-in-github",
        "colab_type": "text"
      },
      "source": [
        "<a href=\"https://colab.research.google.com/github/mustafaerdikararmaz/python_dersleri/blob/main/Python_Tutorial_Lecture2.ipynb\" target=\"_parent\"><img src=\"https://colab.research.google.com/assets/colab-badge.svg\" alt=\"Open In Colab\"/></a>"
      ]
    },
    {
      "cell_type": "code",
      "execution_count": null,
      "metadata": {
        "colab": {
          "base_uri": "https://localhost:8080/"
        },
        "id": "vFCddwXnPH0H",
        "outputId": "b4daf332-7587-4c11-bfe1-81e23201ecc0"
      },
      "outputs": [
        {
          "output_type": "stream",
          "name": "stdout",
          "text": [
            "Ata türk\n"
          ]
        }
      ],
      "source": [
        "print(\"Ata\",\"türk\")"
      ]
    },
    {
      "cell_type": "code",
      "source": [
        "print(12,\"satır2\",3.14,\"satır3\",sep=\"\\n\")"
      ],
      "metadata": {
        "colab": {
          "base_uri": "https://localhost:8080/"
        },
        "id": "h_9m7ARyRxs4",
        "outputId": "3730fa9f-785a-450a-e0c2-0c0d49ab6bf9"
      },
      "execution_count": null,
      "outputs": [
        {
          "output_type": "stream",
          "name": "stdout",
          "text": [
            "12\n",
            "satır2\n",
            "3.14\n",
            "satır3\n"
          ]
        }
      ]
    },
    {
      "cell_type": "code",
      "source": [
        "print(\"Mustafa\\nErdi\\nKararmaz\")"
      ],
      "metadata": {
        "colab": {
          "base_uri": "https://localhost:8080/"
        },
        "id": "ei5aHn8rSK8M",
        "outputId": "93d40855-395e-4e9d-8d0b-62218ef1d9ec"
      },
      "execution_count": null,
      "outputs": [
        {
          "output_type": "stream",
          "name": "stdout",
          "text": [
            "Mustafa\n",
            "Erdi\n",
            "Kararmaz\n"
          ]
        }
      ]
    },
    {
      "cell_type": "code",
      "source": [
        "print(\"Mustafa\\t Erdi\\tKararmaz\")"
      ],
      "metadata": {
        "colab": {
          "base_uri": "https://localhost:8080/"
        },
        "id": "zWt-IvS8TGSf",
        "outputId": "36880ba9-202a-46cc-8111-65d46790b210"
      },
      "execution_count": null,
      "outputs": [
        {
          "output_type": "stream",
          "name": "stdout",
          "text": [
            "Mustafa\t Erdi\tKararmaz\n"
          ]
        }
      ]
    },
    {
      "cell_type": "code",
      "source": [
        "gun = 12\n",
        "ay = 6\n",
        "yil = 2022\n",
        "print(gun,ay,yil,sep = \"/\")"
      ],
      "metadata": {
        "colab": {
          "base_uri": "https://localhost:8080/"
        },
        "id": "sj7Gv8loUXdZ",
        "outputId": "224ef217-af89-45f0-cbca-0063ab14a4dc"
      },
      "execution_count": null,
      "outputs": [
        {
          "output_type": "stream",
          "name": "stdout",
          "text": [
            "12/6/2022\n"
          ]
        }
      ]
    },
    {
      "cell_type": "code",
      "source": [
        "print(*\"ATATÜRK\")"
      ],
      "metadata": {
        "colab": {
          "base_uri": "https://localhost:8080/"
        },
        "id": "Ki5sg1MNUtqe",
        "outputId": "ed6be686-c47d-4f92-dab3-6a017cc05cce"
      },
      "execution_count": null,
      "outputs": [
        {
          "output_type": "stream",
          "name": "stdout",
          "text": [
            "A T A T Ü R K\n"
          ]
        }
      ]
    },
    {
      "cell_type": "markdown",
      "source": [
        "Veri tipi dönüşümleri"
      ],
      "metadata": {
        "id": "AjGDC9o3VGQ8"
      }
    },
    {
      "cell_type": "code",
      "source": [
        "number = \"56\"\n",
        "asdf = int(number)\n",
        "type(asdf)"
      ],
      "metadata": {
        "colab": {
          "base_uri": "https://localhost:8080/"
        },
        "id": "_pgMGRMsUwr6",
        "outputId": "04bd8c2f-934a-41c1-9630-bbb2b5b1b1e7"
      },
      "execution_count": null,
      "outputs": [
        {
          "output_type": "execute_result",
          "data": {
            "text/plain": [
              "int"
            ]
          },
          "metadata": {},
          "execution_count": 32
        }
      ]
    },
    {
      "cell_type": "code",
      "source": [
        "aa = 3.99\n",
        "bb = int(aa)\n",
        "print(bb)"
      ],
      "metadata": {
        "colab": {
          "base_uri": "https://localhost:8080/"
        },
        "id": "yR761s57VIuP",
        "outputId": "b756b58e-0f8d-48ea-c0e0-11c2a12c5996"
      },
      "execution_count": null,
      "outputs": [
        {
          "output_type": "stream",
          "name": "stdout",
          "text": [
            "3\n"
          ]
        }
      ]
    },
    {
      "cell_type": "markdown",
      "source": [
        "listeler\n"
      ],
      "metadata": {
        "id": "Bpz5FnSVW3fM"
      }
    },
    {
      "cell_type": "code",
      "source": [
        "benim_listem = [1,\"2\",3.14]\n",
        "type(benim_listem[0])\n",
        "len(benim_listem)"
      ],
      "metadata": {
        "colab": {
          "base_uri": "https://localhost:8080/"
        },
        "id": "wWyF3INWWZIK",
        "outputId": "fedc07da-6a3f-4d4c-f106-a9ac768e1f82"
      },
      "execution_count": null,
      "outputs": [
        {
          "output_type": "execute_result",
          "data": {
            "text/plain": [
              "3"
            ]
          },
          "metadata": {},
          "execution_count": 40
        }
      ]
    },
    {
      "cell_type": "code",
      "source": [
        "liste = []\n",
        "len(liste)"
      ],
      "metadata": {
        "colab": {
          "base_uri": "https://localhost:8080/"
        },
        "id": "SBRR1mIdXqPi",
        "outputId": "f875f085-e79b-48fd-ceba-d13ceb5e631f"
      },
      "execution_count": null,
      "outputs": [
        {
          "output_type": "execute_result",
          "data": {
            "text/plain": [
              "0"
            ]
          },
          "metadata": {},
          "execution_count": 39
        }
      ]
    },
    {
      "cell_type": "code",
      "source": [
        "numaralar = [3,5,9,13,15]\n",
        "okunuşlar = [\"üç\",\"beş\",\"dokuz\",\"on üç\",\"on beş\"]\n",
        "print(numaralar)\n",
        "print(okunuşlar)\n"
      ],
      "metadata": {
        "colab": {
          "base_uri": "https://localhost:8080/"
        },
        "id": "_QRTLjQnYE6l",
        "outputId": "e9ef7f71-a443-435f-9ff0-12235a9db415"
      },
      "execution_count": null,
      "outputs": [
        {
          "output_type": "stream",
          "name": "stdout",
          "text": [
            "[3, 5, 9, 13, 15]\n",
            "['üç', 'beş', 'dokuz', 'on üç', 'on beş']\n"
          ]
        }
      ]
    },
    {
      "cell_type": "code",
      "source": [
        "numaralar[0] = \"rumeysa\"\n",
        "print(numaralar)"
      ],
      "metadata": {
        "colab": {
          "base_uri": "https://localhost:8080/"
        },
        "id": "XYc8QVCoY2Ta",
        "outputId": "fe785f41-f058-4046-a821-8dc2197440c4"
      },
      "execution_count": null,
      "outputs": [
        {
          "output_type": "stream",
          "name": "stdout",
          "text": [
            "['rumeysa', 5, 9, 13, 15]\n"
          ]
        }
      ]
    },
    {
      "cell_type": "code",
      "source": [
        "print(numaralar[0:2])"
      ],
      "metadata": {
        "colab": {
          "base_uri": "https://localhost:8080/"
        },
        "id": "0qDfQZSdZ7qd",
        "outputId": "3c38a437-9a32-47cf-c1ed-92cf7102f623"
      },
      "execution_count": null,
      "outputs": [
        {
          "output_type": "stream",
          "name": "stdout",
          "text": [
            "['rumeysa', 5]\n"
          ]
        }
      ]
    },
    {
      "cell_type": "code",
      "source": [
        "numaralar.append(\"elif\")\n",
        "print(numaralar)"
      ],
      "metadata": {
        "colab": {
          "base_uri": "https://localhost:8080/"
        },
        "id": "QB9T5S98abR6",
        "outputId": "c06c06da-e6ef-4430-c757-05fd976701c7"
      },
      "execution_count": null,
      "outputs": [
        {
          "output_type": "stream",
          "name": "stdout",
          "text": [
            "['rumeysa', 5, 9, 13, 15, 'elif', 'elif', 'elif', 'elif']\n"
          ]
        }
      ]
    },
    {
      "cell_type": "code",
      "source": [
        "a = numaralar.pop()\n",
        "print(a)\n",
        "print(numaralar)\n"
      ],
      "metadata": {
        "colab": {
          "base_uri": "https://localhost:8080/"
        },
        "id": "6q6LmgD2ayvb",
        "outputId": "8e81cd69-5f60-4473-9a57-3c3dcb2c6c81"
      },
      "execution_count": null,
      "outputs": [
        {
          "output_type": "stream",
          "name": "stdout",
          "text": [
            "elif\n",
            "['rumeysa', 5, 9, 13, 15, 'elif']\n"
          ]
        }
      ]
    },
    {
      "cell_type": "code",
      "source": [
        "numaralar[3] = \"numera\"\n",
        "print(numaralar)"
      ],
      "metadata": {
        "colab": {
          "base_uri": "https://localhost:8080/"
        },
        "id": "4bikjeYxbEO_",
        "outputId": "f291500b-b279-443d-d0d4-d660f3623207"
      },
      "execution_count": null,
      "outputs": [
        {
          "output_type": "stream",
          "name": "stdout",
          "text": [
            "['rumeysa', 5, 9, 'numera', 15, 'elif']\n"
          ]
        }
      ]
    },
    {
      "cell_type": "code",
      "source": [
        "numbers = []\n",
        "a = [\"nuemra2\"]\n",
        "numbers = numaralar[0:3] + a + numaralar[3:]\n",
        "print(numbers)"
      ],
      "metadata": {
        "colab": {
          "base_uri": "https://localhost:8080/"
        },
        "id": "Q4x1D4hhbsOs",
        "outputId": "dce2528e-4eb1-42f0-a5ec-53c5feafe417"
      },
      "execution_count": null,
      "outputs": [
        {
          "output_type": "stream",
          "name": "stdout",
          "text": [
            "['rumeysa', 5, 9, 'nuemra2', 'numera', 15, 'elif']\n"
          ]
        }
      ]
    },
    {
      "cell_type": "code",
      "source": [
        "numbers.sort()"
      ],
      "metadata": {
        "colab": {
          "base_uri": "https://localhost:8080/",
          "height": 169
        },
        "id": "QtKz4y8TcGwm",
        "outputId": "eafd3fe8-4a92-4db8-a759-b666ea1eab78"
      },
      "execution_count": null,
      "outputs": [
        {
          "output_type": "error",
          "ename": "TypeError",
          "evalue": "ignored",
          "traceback": [
            "\u001b[0;31m---------------------------------------------------------------------------\u001b[0m",
            "\u001b[0;31mTypeError\u001b[0m                                 Traceback (most recent call last)",
            "\u001b[0;32m<ipython-input-57-52f87dfc1b99>\u001b[0m in \u001b[0;36m<module>\u001b[0;34m()\u001b[0m\n\u001b[0;32m----> 1\u001b[0;31m \u001b[0mnumbers\u001b[0m\u001b[0;34m.\u001b[0m\u001b[0msort\u001b[0m\u001b[0;34m(\u001b[0m\u001b[0;34m)\u001b[0m\u001b[0;34m\u001b[0m\u001b[0;34m\u001b[0m\u001b[0m\n\u001b[0m",
            "\u001b[0;31mTypeError\u001b[0m: '<' not supported between instances of 'int' and 'str'"
          ]
        }
      ]
    },
    {
      "cell_type": "code",
      "source": [
        "numaralar = [[1,2,[4,6]],\"asdffg\",[7,8,9]]\n",
        "numaralar[2][2][0]"
      ],
      "metadata": {
        "colab": {
          "base_uri": "https://localhost:8080/",
          "height": 187
        },
        "id": "I7hPJ4ijc5NJ",
        "outputId": "038756a6-f0da-451e-f50b-4c3026384867"
      },
      "execution_count": null,
      "outputs": [
        {
          "output_type": "error",
          "ename": "TypeError",
          "evalue": "ignored",
          "traceback": [
            "\u001b[0;31m---------------------------------------------------------------------------\u001b[0m",
            "\u001b[0;31mTypeError\u001b[0m                                 Traceback (most recent call last)",
            "\u001b[0;32m<ipython-input-62-1482ee0b891f>\u001b[0m in \u001b[0;36m<module>\u001b[0;34m()\u001b[0m\n\u001b[1;32m      1\u001b[0m \u001b[0mnumaralar\u001b[0m \u001b[0;34m=\u001b[0m \u001b[0;34m[\u001b[0m\u001b[0;34m[\u001b[0m\u001b[0;36m1\u001b[0m\u001b[0;34m,\u001b[0m\u001b[0;36m2\u001b[0m\u001b[0;34m,\u001b[0m\u001b[0;34m[\u001b[0m\u001b[0;36m4\u001b[0m\u001b[0;34m,\u001b[0m\u001b[0;36m6\u001b[0m\u001b[0;34m]\u001b[0m\u001b[0;34m]\u001b[0m\u001b[0;34m,\u001b[0m\u001b[0;34m\"asdffg\"\u001b[0m\u001b[0;34m,\u001b[0m\u001b[0;34m[\u001b[0m\u001b[0;36m7\u001b[0m\u001b[0;34m,\u001b[0m\u001b[0;36m8\u001b[0m\u001b[0;34m,\u001b[0m\u001b[0;36m9\u001b[0m\u001b[0;34m]\u001b[0m\u001b[0;34m]\u001b[0m\u001b[0;34m\u001b[0m\u001b[0;34m\u001b[0m\u001b[0m\n\u001b[0;32m----> 2\u001b[0;31m \u001b[0mnumaralar\u001b[0m\u001b[0;34m[\u001b[0m\u001b[0;36m2\u001b[0m\u001b[0;34m]\u001b[0m\u001b[0;34m[\u001b[0m\u001b[0;36m2\u001b[0m\u001b[0;34m]\u001b[0m\u001b[0;34m[\u001b[0m\u001b[0;36m0\u001b[0m\u001b[0;34m]\u001b[0m\u001b[0;34m\u001b[0m\u001b[0;34m\u001b[0m\u001b[0m\n\u001b[0m",
            "\u001b[0;31mTypeError\u001b[0m: 'int' object is not subscriptable"
          ]
        }
      ]
    },
    {
      "cell_type": "code",
      "source": [
        "yeni = [1,1,2,2,2,3,4]\n",
        "yeni.index(2)"
      ],
      "metadata": {
        "colab": {
          "base_uri": "https://localhost:8080/"
        },
        "id": "OjApi76kdkwY",
        "outputId": "c5b4a4f3-b06e-44ab-816d-c1e10ab76153"
      },
      "execution_count": null,
      "outputs": [
        {
          "output_type": "execute_result",
          "data": {
            "text/plain": [
              "2"
            ]
          },
          "metadata": {},
          "execution_count": 63
        }
      ]
    },
    {
      "cell_type": "code",
      "source": [
        "a = input()"
      ],
      "metadata": {
        "colab": {
          "base_uri": "https://localhost:8080/"
        },
        "id": "LKkNrgq6gHYI",
        "outputId": "e08ece37-e526-4038-88c3-3dc9f41ba997"
      },
      "execution_count": null,
      "outputs": [
        {
          "name": "stdout",
          "output_type": "stream",
          "text": [
            "merhaba\n"
          ]
        }
      ]
    },
    {
      "cell_type": "code",
      "source": [
        "print(a)"
      ],
      "metadata": {
        "colab": {
          "base_uri": "https://localhost:8080/"
        },
        "id": "iy_yCYKxhLVn",
        "outputId": "4f95dea8-4cfc-46cf-f684-62289d2c506c"
      },
      "execution_count": null,
      "outputs": [
        {
          "output_type": "stream",
          "name": "stdout",
          "text": [
            "merhaba\n"
          ]
        }
      ]
    },
    {
      "cell_type": "code",
      "source": [
        "pi = 3.14\n",
        "radius = int(input(\"dairenin yarıçapını giriniz\"))\n",
        "print(pi*(radius^2))"
      ],
      "metadata": {
        "colab": {
          "base_uri": "https://localhost:8080/"
        },
        "id": "RuoudZwQhRKb",
        "outputId": "1d219571-82a4-41d3-bf0b-c3bf647fbda7"
      },
      "execution_count": null,
      "outputs": [
        {
          "output_type": "stream",
          "name": "stdout",
          "text": [
            "dairenin yarıçapını giriniz5\n",
            "21.98\n"
          ]
        }
      ]
    },
    {
      "cell_type": "code",
      "source": [
        ""
      ],
      "metadata": {
        "id": "kwAQO_8Sh1Zr"
      },
      "execution_count": null,
      "outputs": []
    }
  ]
}