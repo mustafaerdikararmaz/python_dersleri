{
  "nbformat": 4,
  "nbformat_minor": 0,
  "metadata": {
    "colab": {
      "name": "odev2.ipynb",
      "provenance": [],
      "authorship_tag": "ABX9TyMfBFpUBlFUeHGq18rNpPo4",
      "include_colab_link": true
    },
    "kernelspec": {
      "name": "python3",
      "display_name": "Python 3"
    },
    "language_info": {
      "name": "python"
    }
  },
  "cells": [
    {
      "cell_type": "markdown",
      "metadata": {
        "id": "view-in-github",
        "colab_type": "text"
      },
      "source": [
        "<a href=\"https://colab.research.google.com/github/mustafaerdikararmaz/python_dersleri/blob/main/odev2.ipynb\" target=\"_parent\"><img src=\"https://colab.research.google.com/assets/colab-badge.svg\" alt=\"Open In Colab\"/></a>"
      ]
    },
    {
      "cell_type": "markdown",
      "source": [
        "Soru 1) \\\\\n",
        "Size verilen listenin 3. elemanını kullanıcıdan aldığınız inputla değiştiriniz"
      ],
      "metadata": {
        "id": "0QT3LutMfHim"
      }
    },
    {
      "cell_type": "code",
      "execution_count": null,
      "metadata": {
        "id": "5IpRgEZqS88m"
      },
      "outputs": [],
      "source": [
        "liste = [1,2,3,4,5,6,7,8,9]\n",
        "#kodunuzu aşağıya yazabilirsiniz"
      ]
    },
    {
      "cell_type": "markdown",
      "source": [
        "Soru 2) \\\n",
        "Verilen listedeki sayıları ters çevirerek başka bir liste oluşturunuz. Ardından bu listedeki 3. ve 5. elemanları toplayıp print fonksiyonu ile bastırınız. Ayrıca yeni oluşan listeyi de bastırınız."
      ],
      "metadata": {
        "id": "2VHZgiMnffM_"
      }
    },
    {
      "cell_type": "code",
      "source": [
        "liste2 = [1,2,3,4,5,6,7,8,9]\n",
        "#kodunuzu aşağıya yazabilirsiniz"
      ],
      "metadata": {
        "id": "Yma2eNTXgIEv"
      },
      "execution_count": null,
      "outputs": []
    },
    {
      "cell_type": "markdown",
      "source": [
        "Soru 3)\n",
        "\n",
        "Farz edin ki size verilen listenin içindeki sayıları, sıralı olup olmadıklarını ve kaç tane elemanı olduğunu bilmiyorsunuz. Öğrendiğimiz fonksiyonları kullanarak,\n",
        "\n",
        "a.Listede kaç tane sayı olduğunu\n",
        "\n",
        "b.Listenin en büyük sayısını bastırınız"
      ],
      "metadata": {
        "id": "4kuq019GgNax"
      }
    },
    {
      "cell_type": "code",
      "source": [
        "liste3 = [34,68,354,-12,6,999,180,-180,9]\n",
        "#kodunuzu aşağıya yazabilirsiniz"
      ],
      "metadata": {
        "id": "1TkbHX6RiB1E"
      },
      "execution_count": null,
      "outputs": []
    },
    {
      "cell_type": "markdown",
      "source": [
        "Soru 4)\n",
        "\n",
        "Boş bir listeyi kullanıcıdan aldığınız sayıların 3 katının 2 eksiği(mesela kullanıcı ilk sayıyı 3 girdi ise siz listeye 7 olarak eklemelisiniz) ile doldurunuz(en az 3 elemanlı bir liste oluşturmanız isteniyor)."
      ],
      "metadata": {
        "id": "Wio-2v7xiRyk"
      }
    },
    {
      "cell_type": "code",
      "source": [
        "liste4 = list()\n",
        "#kodunuzu aşağıya yazabilirsiniz"
      ],
      "metadata": {
        "id": "7Vmy6FYCizOD"
      },
      "execution_count": null,
      "outputs": []
    }
  ]
}